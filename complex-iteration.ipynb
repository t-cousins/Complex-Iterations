{
 "cells": [
  {
   "cell_type": "markdown",
   "metadata": {},
   "source": [
    "# Iteration"
   ]
  },
  {
   "cell_type": "markdown",
   "metadata": {},
   "source": [
    "Run the code below to see how to save the first 100 terms of an iteratively defined sequence into a list and print it...though it's a rather boring sequence."
   ]
  },
  {
   "cell_type": "code",
   "execution_count": 3,
   "metadata": {
    "collapsed": false
   },
   "outputs": [
    {
     "name": "stdout",
     "output_type": "stream",
     "text": [
      "[3, 4.5, 6.0, 7.5, 9.0, 10.5, 12.0, 13.5, 15.0, 16.5, 18.0, 19.5, 21.0, 22.5, 24.0, 25.5, 27.0, 28.5, 30.0, 31.5, 33.0, 34.5, 36.0, 37.5, 39.0, 40.5, 42.0, 43.5, 45.0, 46.5, 48.0, 49.5, 51.0, 52.5, 54.0, 55.5, 57.0, 58.5, 60.0, 61.5, 63.0, 64.5, 66.0, 67.5, 69.0, 70.5, 72.0, 73.5, 75.0, 76.5, 78.0, 79.5, 81.0, 82.5, 84.0, 85.5, 87.0, 88.5, 90.0, 91.5, 93.0, 94.5, 96.0, 97.5, 99.0, 100.5, 102.0, 103.5, 105.0, 106.5, 108.0, 109.5, 111.0, 112.5, 114.0, 115.5, 117.0, 118.5, 120.0, 121.5, 123.0, 124.5, 126.0, 127.5, 129.0, 130.5, 132.0, 133.5, 135.0, 136.5, 138.0, 139.5, 141.0, 142.5, 144.0, 145.5, 147.0, 148.5, 150.0, 151.5, 153.0]\n"
     ]
    }
   ],
   "source": [
    "seq = []\n",
    "x = 3\n",
    "seq.append(x)\n",
    "\n",
    "for i in range(100):\n",
    "    x = x + 1.5\n",
    "    seq.append(x)\n",
    "\n",
    "print(seq)"
   ]
  },
  {
   "cell_type": "markdown",
   "metadata": {},
   "source": [
    "Write code in the space below to print out the first 100 terms of the Fibonacci sequence."
   ]
  },
  {
   "cell_type": "code",
   "execution_count": null,
   "metadata": {
    "collapsed": true
   },
   "outputs": [],
   "source": []
  },
  {
   "cell_type": "markdown",
   "metadata": {},
   "source": [
    "Run the code below to see how one can use the numpy package to access well-known mathematical functions and the matplotlib package to produce graphs. "
   ]
  },
  {
   "cell_type": "code",
   "execution_count": 4,
   "metadata": {
    "collapsed": false
   },
   "outputs": [
    {
     "data": {
      "text/plain": [
       "[<matplotlib.lines.Line2D at 0x7f900f5b56d8>]"
      ]
     },
     "execution_count": 4,
     "metadata": {},
     "output_type": "execute_result"
    },
    {
     "data": {
      "image/png": "[encoded data removed]",
      "text/plain": [
       "<matplotlib.figure.Figure at 0x7f902c478be0>"
      ]
     },
     "metadata": {},
     "output_type": "display_data"
    }
   ],
   "source": [
    "import numpy as np\n",
    "import matplotlib\n",
    "import matplotlib.pyplot as pp\n",
    "%matplotlib inline\n",
    "\n",
    "def func(x):\n",
    "    return np.cos(np.pi*x/180)\n",
    "\n",
    "xrange = np.arange(-360.0, 360.0, 0.1)\n",
    "\n",
    "pp.plot(xrange, func(xrange))"
   ]
  },
  {
   "cell_type": "markdown",
   "metadata": {},
   "source": [
    "Write code in the space below to plot $y = \\sin(x)$ and $y = \\cos(x)\\sin(x)$ on the same axes. \n",
    "\n",
    "What do you notice? Can you write the latter function in the form $a\\sin(bx)$ for some $a$ and $b$?"
   ]
  },
  {
   "cell_type": "code",
   "execution_count": null,
   "metadata": {
    "collapsed": true
   },
   "outputs": [],
   "source": []
  },
  {
   "cell_type": "markdown",
   "metadata": {},
   "source": [
    "## Complex Sequences"
   ]
  },
  {
   "cell_type": "markdown",
   "metadata": {},
   "source": [
    "Consider a complex sequence generated by the iteration $z_{n+1}=z^2_n$.                    \n",
    "On paper, investigate and characterise the behaviour of such sequences when the first term is:\n",
    "\n",
    "(Hint: First put them into modulus-argument form and think geometrically!)\n",
    "\n",
    "a) $\\frac{1+i}{\\sqrt{2}}$\n",
    "\n",
    "b) $\\frac{\\sqrt{3}+i}{2}$\n",
    "\n",
    "c) $\\frac{1+\\sqrt{3}i}{2}$\n",
    "\n",
    "d) $1+i$\n",
    "\n",
    "e) $\\frac{2+i}{4}$\n",
    "\n",
    "f) $3+4i$\n",
    "\n",
    "Find a first term that generates a periodic sequence with period 3.\n",
    "\n",
    "Some of the sequences above eventually reach fixed points. Some fixed points are stable (if you started at a very slightly different initial value you would still be attracted to it) whilst others are unstable. Investigate the stability of each of the fixed points."
   ]
  },
  {
   "cell_type": "markdown",
   "metadata": {},
   "source": [
    "Run the code below to see how one could plot these sequences - by default it runs a).\n",
    "\n",
    "What eventually goes wrong and why?"
   ]
  },
  {
   "cell_type": "code",
   "execution_count": 2,
   "metadata": {
    "collapsed": false
   },
   "outputs": [
    {
     "name": "stdout",
     "output_type": "stream",
     "text": [
      "[(0.7071067811865475+0.7071067811865475j), 0.9999999999999998j, (-0.9999999999999996+0j), (0.9999999999999991-0j), (0.9999999999999982-0j), (0.9999999999999964-0j), (0.9999999999999929-0j), (0.9999999999999858-0j), (0.9999999999999716-0j), (0.9999999999999432-0j), (0.9999999999998863-0j), (0.9999999999997726-0j), (0.9999999999995453-0j), (0.9999999999990905-0j), (0.999999999998181-0j), (0.999999999996362-0j), (0.999999999992724-0j), (0.9999999999854481-0j), (0.9999999999708962-0j), (0.9999999999417923-0j), (0.9999999998835847-0j), (0.9999999997671694-0j), (0.9999999995343387-0j), (0.9999999990686774-0j), (0.9999999981373549-0j), (0.9999999962747097-0j), (0.9999999925494194-0j), (0.9999999850988388-0j), (0.9999999701976778-0j), (0.9999999403953566-0j), (0.9999998807907167-0j), (0.9999997615814475-0j), (0.9999995231629519-0j), (0.9999990463261312-0j), (0.999998092653172-0j), (0.9999961853099819-0j), (0.9999923706345157-0j), (0.9999847413272387-0j), (0.9999694828873045-0j), (0.9999389667059031-0j), (0.9998779371368692-0j), (0.999755889173081-0j), (0.9995118379362579-0j), (0.9990239141747163-0j), (0.9980487810929708-0j), (0.9961013694411648-0j), (0.9922179382025639-0j), (0.9844964368909469-0j), (0.9692332342509702-0j), (0.939413062376596-0j), (0.8824969017637744-0j), (0.7788007816226609-0j), (0.6065306574560675-0j), (0.3678794384340895-0j), (0.13533528122258104-0j), (0.018315638343595095-0j), (0.0003354626079333709-0j), (1.125351613214585e-07-0j), (1.2664162533646689e-14-0j), (1.6038101267862054e-28-0j), (2.572206922781984e-56-0j), (6.616248453607563e-112-0j), (4.3774743599864475e-223-0j), -0j, -0j, -0j, -0j, -0j, -0j, -0j, -0j, -0j, -0j, -0j, -0j, -0j, -0j, -0j, -0j, -0j, -0j, -0j, -0j, -0j, -0j, -0j, -0j, -0j, -0j, -0j, -0j, -0j, -0j, -0j, -0j, -0j, -0j, -0j, -0j, -0j, -0j]\n"
     ]
    },
    {
     "data": {
      "text/plain": [
       "(-2, 2)"
      ]
     },
     "execution_count": 2,
     "metadata": {},
     "output_type": "execute_result"
    },
    {
     "data": {
      "image/png": "[encoded data removed]",
      "text/plain": [
       "<matplotlib.figure.Figure at 0x7f902c465f28>"
      ]
     },
     "metadata": {},
     "output_type": "display_data"
    }
   ],
   "source": [
    "import numpy as np\n",
    "import matplotlib\n",
    "import matplotlib.pyplot as pp\n",
    "%matplotlib inline\n",
    "\n",
    "seq = []\n",
    "x = (1+1j)/np.power(2,0.5)\n",
    "seq.append(x)\n",
    "\n",
    "for i in range(100):\n",
    "    x = x*x\n",
    "    seq.append(x)\n",
    "\n",
    "print(seq)\n",
    "    \n",
    "pp.plot(np.real(seq),np.imag(seq))\n",
    "pp.xlim((-2,2))\n",
    "pp.ylim((-2,2))"
   ]
  },
  {
   "cell_type": "markdown",
   "metadata": {},
   "source": [
    "Consider a sequence generated by the iteration $z_{n+1}=z^2_n - 0.75$.\n",
    "\n",
    "a) Investigate its behaviour when $z_0 = 0$\n",
    "\n",
    "b) Find any fixed points of the sequence\n",
    "\n",
    "c) Investigate the stability of these fixed points"
   ]
  },
  {
   "cell_type": "markdown",
   "metadata": {},
   "source": [
    "Consider a complex sequence generated by the iteration $z_{n+1}=z^2_n + c$.\n",
    "\n",
    "The Mandelbrot Set is the set of complex numbers $c$ for which the sequences remains bounded when $z_1 = 0$.\n",
    "\n",
    "From your work above, does $c=-0.75$ lie in the Mandelbrot Set?\n",
    "\n",
    "It can be shown that, if $|z_n|>2$ for some $n$ then it will never converge. So once the sequence reaches this size we can safely exclude said value of $c$ from the Mandelbrot Set.\n",
    "\n",
    "The function below tests to see if an inputted value of $c$ lies in the Mandelbrot Set. Try it out for some different values."
   ]
  },
  {
   "cell_type": "code",
   "execution_count": 5,
   "metadata": {
    "collapsed": true
   },
   "outputs": [],
   "source": [
    "import numpy as np\n",
    "\n",
    "def compute_mandel(c, maxit = 200):\n",
    "    z = 0+0j\n",
    "    \n",
    "    for i in range(maxit):\n",
    "        z = z*z + c\n",
    "        \n",
    "        if abs(z) > 2.0:\n",
    "            return 0\n",
    "        \n",
    "    return 1"
   ]
  },
  {
   "cell_type": "markdown",
   "metadata": {},
   "source": [
    "The function below systematically runs compute_mandel for a variety of values of $c$ and stores the output into a matrix."
   ]
  },
  {
   "cell_type": "code",
   "execution_count": 6,
   "metadata": {
    "collapsed": true
   },
   "outputs": [],
   "source": [
    "import numpy as np\n",
    "\n",
    "def run_mandel(extent = [-2.0, 1.0, -1.25, 1.25], res = 256, maxit = 200):\n",
    "    xrange = np.linspace(extent[0], extent[1], res)\n",
    "    yrange = np.linspace(extent[2], extent[3], res)\n",
    "    \n",
    "    escaped = np.zeros((res,res)) # escape status of points\n",
    "    \n",
    "    for i in range(res):\n",
    "        for j in range(res):\n",
    "            c = xrange[i] + 1j*yrange[j]\n",
    "            escaped[i,j] = compute_mandel(c, maxit)\n",
    "\n",
    "    return escaped\n",
    "\n",
    "def compute_mandel(c, maxit = 200):\n",
    "    z = 0+0j\n",
    "    \n",
    "    for i in range(maxit):\n",
    "        z = z*z +c\n",
    "        \n",
    "        if abs(z) > 2.0:\n",
    "            return 0\n",
    "        \n",
    "    return 1"
   ]
  },
  {
   "cell_type": "markdown",
   "metadata": {},
   "source": [
    "How many different values of $c$ are tested?\n",
    "\n",
    "For each value of $c$, what is the maximum number of times that the iteration is run? "
   ]
  },
  {
   "cell_type": "markdown",
   "metadata": {},
   "source": [
    "Finally, the code below visualies the escaped matrix using matplotlib.\n",
    "\n",
    "Run the code as it is to see the entire Mandelbrot Set.\n",
    "\n",
    "Now change the 'extent' list to [-0.6, -0.5, -0.6, -0.5] to zoom in on the edge of the set.\n",
    "Play with this parameter and 'res' to zoom in further and investigate the set in more detail."
   ]
  },
  {
   "cell_type": "code",
   "execution_count": null,
   "metadata": {
    "collapsed": true
   },
   "outputs": [],
   "source": [
    "import numpy as np\n",
    "import matplotlib\n",
    "import matplotlib.pyplot as pp\n",
    "%matplotlib inline\n",
    "\n",
    "def run_mandel(extent, res, maxit):\n",
    "    xrange = np.linspace(extent[0], extent[1], res)\n",
    "    yrange = np.linspace(extent[2], extent[3], res)\n",
    "    \n",
    "    escaped = np.zeros((res,res)) # escape status of points\n",
    "    \n",
    "    for i in range(res):\n",
    "        for j in range(res):\n",
    "            c = xrange[i] + 1j*yrange[j]\n",
    "            escaped[i,j] = compute_mandel(c, maxit)\n",
    "\n",
    "    return escaped\n",
    "\n",
    "def compute_mandel(c, maxit):\n",
    "    z = 0+0j\n",
    "    \n",
    "    for i in range(maxit):\n",
    "        z = z*z +c\n",
    "        \n",
    "        if abs(z) > 2.0:\n",
    "            return 0\n",
    "        \n",
    "    return 1\n",
    "\n",
    "pp.figure(figsize = (10,10))\n",
    "pp.imshow(run_mandel([-2.0, 1.0, -1.25, 1.25], 256, 200).T,\n",
    "          extent = [-2.0, 1.0, -1.25, 1.25], origin = 'lower')"
   ]
  },
  {
   "cell_type": "code",
   "execution_count": null,
   "metadata": {
    "collapsed": true
   },
   "outputs": [],
   "source": []
  }
 ],
 "metadata": {
  "kernelspec": {
   "display_name": "Python 3",
   "language": "python",
   "name": "python3"
  },
  "language_info": {
   "codemirror_mode": {
    "name": "ipython",
    "version": 3
   },
   "file_extension": ".py",
   "mimetype": "text/x-python",
   "name": "python",
   "nbconvert_exporter": "python",
   "pygments_lexer": "ipython3",
   "version": "3.6.3"
  }
 },
 "nbformat": 4,
 "nbformat_minor": 2
}
